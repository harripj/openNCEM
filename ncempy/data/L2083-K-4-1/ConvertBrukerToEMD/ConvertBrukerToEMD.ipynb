{
 "cells": [
  {
   "cell_type": "markdown",
   "metadata": {},
   "source": [
    "# Acquiring and importing a tomographic tilt series using a Bruker EDS detector.\n",
    "\n",
    "For any questions, e-mail Zack Gainsforth (zackg@berkeley.edu).\n",
    "\n",
    "We start with a sequence of EDS acquisitions.  We have one Bruker file (angle.bcf) for each stage tilt.  angle = whatever the stage alpha is in degrees.  These files are all in an input directory.\n",
    "\n",
    "Let's go!"
   ]
  },
  {
   "cell_type": "code",
   "execution_count": 1,
   "metadata": {},
   "outputs": [
    {
     "data": {
      "text/html": [
       "<style>.container { width:100% !important; }</style>"
      ],
      "text/plain": [
       "<IPython.core.display.HTML object>"
      ]
     },
     "metadata": {},
     "output_type": "display_data"
    }
   ],
   "source": [
    "import sys, os, shutil\n",
    "import numpy as np\n",
    "import matplotlib.pyplot as plt\n",
    "import os\n",
    "\n",
    "# It annoys me that I have a large screen and these notebooks are a tiny -- narrow -- itsy bitsy column down the middle.\n",
    "# The following two lines make jupyter notebook use the whole window!  Comment them out if you don't like it.\n",
    "from IPython.core.display import display, HTML\n",
    "display(HTML(\"<style>.container { width:100% !important; }</style>\"))\n",
    "\n",
    "# I also like images to be bigger than default.\n",
    "import matplotlib.pylab as pylab\n",
    "pylab.rcParams['figure.figsize'] = 10, 6  # that's default image size for this interactive session\n",
    "\n",
    "# Uncomment this line to enable retina display on a Mac.\n",
    "%config InlineBackend.figure_format = 'retina'"
   ]
  },
  {
   "cell_type": "code",
   "execution_count": 5,
   "metadata": {},
   "outputs": [],
   "source": [
    "from ncempy.edstomo import preprocess, postprocess, bruker\n",
    "# If you get a warning about traitsui, ignore it.  We're not using traitsui."
   ]
  },
  {
   "cell_type": "code",
   "execution_count": 3,
   "metadata": {},
   "outputs": [],
   "source": [
    "# These are the directories for the different stages of processing.\n",
    "InputDirectory = os.path.join('Input')\n",
    "OutputDirectory = os.path.join('Output')\n",
    "EMDFileName = os.path.join(OutputDirectory, 'TomoData.emd')\n",
    "if not os.path.isdir(OutputDirectory):\n",
    "    os.mkdir(OutputDirectory)\n",
    "\n",
    "# These are the signals we will extract today.\n",
    "SignalNames = ['HAADF', 'Al_Ka', 'C_Ka', 'Ca_Ka', 'Cr_Ka', 'Fe_Ka', 'Ga_Ka', 'Mg_Ka', 'Na_Ka', 'Ni_Ka', 'O_Ka', 'P_Ka', 'Pt_La', 'S_Ka', 'Si_Ka']\n"
   ]
  },
  {
   "cell_type": "markdown",
   "metadata": {},
   "source": [
    "# 1. Pull the raw signals out of bcf files.\n",
    "You have to have all the bcf files in one directory and named like this:\n",
    "\n",
    "-10.bcf  \n",
    "-5.bcf  \n",
    "0.bcf  \n",
    "5.bcf  \n",
    "10.bcf  \n",
    "etc.\n",
    "\n",
    "The code will automatically construct a list of tilts from the names of the files and sort them according to tilts."
   ]
  },
  {
   "cell_type": "code",
   "execution_count": 4,
   "metadata": {},
   "outputs": [
    {
     "name": "stdout",
     "output_type": "stream",
     "text": [
      "Extracting Signals:\n",
      "HAADF has dimensions (21, 256, 256)\n",
      "EDS has dimensions (21, 256, 256, 2048)\n",
      "Input/-50.bcf\n",
      "Input/-45.bcf\n",
      "Input/-40.bcf\n",
      "Input/-35.bcf\n",
      "Input/-30.bcf\n",
      "Input/-25.bcf\n",
      "Input/-20.bcf\n",
      "Input/-15.bcf\n",
      "Input/-10.bcf\n",
      "Input/-5.bcf\n",
      "Input/0.bcf\n",
      "Input/5.bcf\n",
      "Input/10.bcf\n",
      "Input/15.bcf\n",
      "Input/20.bcf\n",
      "Input/25.bcf\n",
      "Input/30.bcf\n",
      "Input/35.bcf\n",
      "Input/40.bcf\n",
      "Input/45.bcf\n",
      "Input/50.bcf\n",
      "Writing HAADF tilt stack.\n",
      "Writing EDS tilt stack.\n",
      "Created file Output/TomoData.emd\n"
     ]
    }
   ],
   "source": [
    "# First we extract the raw signals from the bcf files.  We infer the list of stage tilts from the names of the files.\n",
    "# The EDS channels will be two binned (meaning each voxel is 2x2x2 voxels summed).  The HAADF channel is unchanged.\n",
    "bruker.ExtractRawSignalsFromBrukerSequence(InputDirectory=InputDirectory, OutputEMD=EMDFileName)"
   ]
  },
  {
   "cell_type": "markdown",
   "metadata": {},
   "source": [
    "Note that writing the file sometimes takes a while.  Be sure to wait for the last cell to complete!  It will say \"Created file Output/TomoData.emd\" when it is done.\n",
    "\n",
    "After the emd file is written you can use the h5ls tool to examine the structure.\n",
    "\n",
    "```> h5ls -r Output/TomoData.emd```\n",
    "```\n",
    "/                        Group\n",
    "/comments                Group\n",
    "/data                    Group\n",
    "/data/EDS_TiltStack      Group\n",
    "/data/EDS_TiltStack/data Dataset {21, 256, 256, 2048}\n",
    "/data/EDS_TiltStack/dim1 Dataset {21}\n",
    "/data/EDS_TiltStack/dim2 Dataset {256}\n",
    "/data/EDS_TiltStack/dim3 Dataset {256}\n",
    "/data/EDS_TiltStack/dim4 Dataset {2048}\n",
    "/data/HAADF_TiltStack    Group\n",
    "/data/HAADF_TiltStack/data Dataset {21, 256, 256}\n",
    "/data/HAADF_TiltStack/dim1 Dataset {21}\n",
    "/data/HAADF_TiltStack/dim2 Dataset {256}\n",
    "/data/HAADF_TiltStack/dim3 Dataset {256}\n",
    "/microscope              Group\n",
    "/sample                  Group\n",
    "/user                    Group\n",
    "```"
   ]
  },
  {
   "cell_type": "code",
   "execution_count": 6,
   "metadata": {},
   "outputs": [
    {
     "name": "stdout",
     "output_type": "stream",
     "text": [
      "[NbConvertApp] Converting notebook ConvertBrukerToEMD.ipynb to html\n",
      "[NbConvertApp] Writing 285005 bytes to ConvertBrukerToEMD.html\n"
     ]
    }
   ],
   "source": [
    "!jupyter-nbconvert --to html 'ConvertBrukerToEMD.ipynb'"
   ]
  },
  {
   "cell_type": "code",
   "execution_count": null,
   "metadata": {},
   "outputs": [],
   "source": []
  }
 ],
 "metadata": {
  "kernelspec": {
   "display_name": "Python 3",
   "language": "python",
   "name": "python3"
  },
  "language_info": {
   "codemirror_mode": {
    "name": "ipython",
    "version": 3
   },
   "file_extension": ".py",
   "mimetype": "text/x-python",
   "name": "python",
   "nbconvert_exporter": "python",
   "pygments_lexer": "ipython3",
   "version": "3.5.6"
  }
 },
 "nbformat": 4,
 "nbformat_minor": 2
}
