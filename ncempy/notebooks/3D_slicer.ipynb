{
 "cells": [
  {
   "cell_type": "markdown",
   "metadata": {},
   "source": [
    "# NCEMPY's 3D slicer\n",
    " - Interactively scroll through all images in a 3D dataset\n",
    " - Ideal for time series data and can be used for volume data\n",
    " - Set the dirName nad fName below to point to your data and run all"
   ]
  },
  {
   "cell_type": "code",
   "execution_count": null,
   "metadata": {},
   "outputs": [],
   "source": [
    "# Set the data location\n",
    "dirName = r'c:\\users\\linol\\data'\n",
    "fName = '10_series_1.ser'"
   ]
  },
  {
   "cell_type": "code",
   "execution_count": null,
   "metadata": {},
   "outputs": [],
   "source": [
    "# Load needed modules\n",
    "%matplotlib widget\n",
    "\n",
    "from pathlib import Path\n",
    "\n",
    "import matplotlib.pyplot as plt\n",
    "\n",
    "import ncempy.io as nio\n",
    "\n",
    "import ipywidgets as widgets\n",
    "from ipywidgets import interact, interactive"
   ]
  },
  {
   "cell_type": "markdown",
   "metadata": {},
   "source": [
    "# Load a 3D data set\n",
    " - Use the simple ser reader function\n",
    " - Change the file_name and the reader function as needed"
   ]
  },
  {
   "cell_type": "code",
   "execution_count": null,
   "metadata": {},
   "outputs": [],
   "source": [
    "# Set file path\n",
    "file_name = Path(dirName) / Path(fName)\n",
    "\n",
    "# Read the data in the file\n",
    "ser0 = nio.ser.serReader(file_name)\n",
    "\n",
    "# Set the variable named data to the loaded dataset\n",
    "data = ser0['data']\n",
    "\n",
    "# Available information\n",
    "# The 'data' key holds all of the data\n",
    "print(ser0.keys())\n",
    "\n",
    "# Print out the shape of the dataset\n",
    "print('Dataset shape = {}'.format(data.shape))"
   ]
  },
  {
   "cell_type": "markdown",
   "metadata": {},
   "source": [
    "# Interactively show images in the time series\n",
    " - Use Jupyter's ipywidgets to create a basic user interface\n",
    " - Use the scroll bar at the bottom "
   ]
  },
  {
   "cell_type": "code",
   "execution_count": null,
   "metadata": {
    "scrolled": false
   },
   "outputs": [],
   "source": [
    "fg1, ax1 = plt.subplots(1,1)\n",
    "imax1 = ax1.imshow(data[0,:,:],\n",
    "                   vmin=data.min(),vmax = data.max()) # Set the initial image and intenstiy scaling \n",
    "\n",
    "# Updates the plot\n",
    "def axUpdate(i):\n",
    "    imax1.set_data(data[i,:,:])\n",
    "\n",
    "# Create the slider to update the plot\n",
    "w = interactive(axUpdate, i=(0,data.shape[0]-1))\n",
    "display(w)"
   ]
  }
 ],
 "metadata": {
  "kernelspec": {
   "display_name": "Python 3",
   "language": "python",
   "name": "python3"
  },
  "language_info": {
   "codemirror_mode": {
    "name": "ipython",
    "version": 3
   },
   "file_extension": ".py",
   "mimetype": "text/x-python",
   "name": "python",
   "nbconvert_exporter": "python",
   "pygments_lexer": "ipython3",
   "version": "3.8.5"
  }
 },
 "nbformat": 4,
 "nbformat_minor": 2
}
