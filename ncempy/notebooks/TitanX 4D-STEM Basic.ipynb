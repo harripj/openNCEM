{
 "cells": [
  {
   "cell_type": "markdown",
   "metadata": {},
   "source": [
    "# NCEM's 4D-STEM Basic Jupyter Notebook\n",
    "- Quickly process and investigate 4D-STEM data from the TitanX\n",
    "\n",
    "## To start:\n",
    "- Change the dirName and fName\n",
    "- Select Cell -- Run All\n",
    "- Scroll to bottom and investigate your data"
   ]
  },
  {
   "cell_type": "code",
   "execution_count": null,
   "metadata": {},
   "outputs": [],
   "source": [
    "dirName = r'C:\\Users\\Peter\\Data\\Te NP 4D-STEM'\n",
    "fName = r'07_45x8 ss=5nm_spot11_CL=100 0p1s_alpha=4p63mrad_bin=4_300kV.dm4'"
   ]
  },
  {
   "cell_type": "code",
   "execution_count": null,
   "metadata": {},
   "outputs": [],
   "source": [
    "%matplotlib widget\n",
    "\n",
    "from pathlib import Path\n",
    "\n",
    "import numpy as np\n",
    "import matplotlib.pyplot as plt\n",
    "from PIL import Image\n",
    "\n",
    "import ncempy.io as nio\n",
    "import ncempy.algo as nalgo\n",
    "\n",
    "import ipywidgets as widgets\n",
    "from ipywidgets import interact, interactive"
   ]
  },
  {
   "cell_type": "markdown",
   "metadata": {},
   "source": [
    "# Import the data and reshape to 4D\n",
    "- Change dirName to the directory where your data lives\n",
    "- Change the fName to the full file name"
   ]
  },
  {
   "cell_type": "code",
   "execution_count": null,
   "metadata": {},
   "outputs": [],
   "source": [
    "#Load the data using ncempy\n",
    "fPath = Path(dirName) / Path(fName)\n",
    "with nio.dm.fileDM(fPath.as_posix()) as dm1:\n",
    "    im1 = dm1.getDataset(0)\n",
    "\n",
    "    scanI = int(dm1.allTags['.ImageList.2.ImageTags.Series.nimagesx'])\n",
    "    scanJ = int(dm1.allTags['.ImageList.2.ImageTags.Series.nimagesy'])\n",
    "    numkI = im1['data'].shape[2]\n",
    "    numkJ = im1['data'].shape[1]\n",
    "\n",
    "    data = im1['data'].reshape([scanJ,scanI,numkJ,numkI])\n",
    "    \n",
    "    print('Data shape is {}'.format(data.shape))"
   ]
  },
  {
   "cell_type": "markdown",
   "metadata": {},
   "source": [
    "# Find the location of the zero beam and generate BF\n",
    "- Assumes the first diffraction pattern will have the least structure. \n",
    "- Use center of intensity to find pattern center"
   ]
  },
  {
   "cell_type": "code",
   "execution_count": null,
   "metadata": {},
   "outputs": [],
   "source": [
    "fg1,ax1 = plt.subplots(3,1,figsize=(10,6))\n",
    "ax1[0].imshow(data[0,0,:,:])\n",
    "\n",
    "# Find center of intensity\n",
    "cm0 = nalgo.moments.centroid(nalgo.moments.moments(data[0,0,:,:].astype(np.float64)))\n",
    "cm0 = [int(ii) for ii in cm0] # change to integer\n",
    "\n",
    "# Plot the first diffraction pattern and found center\n",
    "ax1[0].plot(cm0[1],cm0[0],'rx')\n",
    "ax1[0].legend(['Center of central beam'])\n",
    "ax1[0].set(title='First diffraction pattern\\nCenter = {}'.format(cm0))\n",
    "\n",
    "# Generate a bright field image\n",
    "box0 = 25\n",
    "BF0 = np.sum(np.sum(data[:,:,cm0[0]-box0:cm0[0]+box0,cm0[1]-box0:cm0[1]+box0],axis=3),axis=2)\n",
    "ax1[1].imshow(BF0)\n",
    "ax1[1].set(title='Bright field image')\n",
    "\n",
    "ax1[2].imshow(np.sum(data, axis=(2,3)))\n",
    "ax1[2].set(title='Sum of all diffraction intensity')\n",
    "\n",
    "fg1.tight_layout()"
   ]
  },
  {
   "cell_type": "markdown",
   "metadata": {},
   "source": [
    "# Investigate the data\n",
    "Scroll back and forth in the two axes with update of current position on Bright Field image"
   ]
  },
  {
   "cell_type": "code",
   "execution_count": null,
   "metadata": {},
   "outputs": [],
   "source": [
    "im1 = data[:,:,::1,::1]\n",
    "fg1,(ax1,ax2) = plt.subplots(1,2,figsize=(8,8))\n",
    "p1 = ax1.plot(4,4,'or')\n",
    "p1 = p1[0]\n",
    "ax1.imshow(BF0)\n",
    "im2 = ax2.imshow(np.log(im1[4,4,:,:]+50))\n",
    "\n",
    "#Updates the plots\n",
    "def axUpdate(i,j):\n",
    "    p1.set_xdata(i)\n",
    "    p1.set_ydata(j)\n",
    "    im2.set_array(np.log(im1[j,i,:,:]+50))\n",
    "\n",
    "ax1.set(title='Bright Field Image',xlabel='i',label='j')\n",
    "ax2.set(title='Diffraction pattern (log(I))')\n",
    "\n",
    "#Connect the function and the sliders\n",
    "w = interactive(axUpdate, i=(0,BF0.shape[1]-1), j=(0,BF0.shape[0]-1))\n",
    "\n",
    "wB = widgets.Button(\n",
    "    description='Save current DP',\n",
    "    disabled=False,\n",
    "    button_style='', # 'success', 'info', 'warning', 'danger' or ''\n",
    "    tooltip=''\n",
    ")\n",
    "\n",
    "def saveCurrentDP(a):\n",
    "    curI = w.children[0].get_interact_value()\n",
    "    curJ = w.children[1].get_interact_value()\n",
    "    im = Image.fromarray(data[curJ,curI,:,:])\n",
    "    outName = fPath.as_posix() + '_DP{}i_{}j.tif'.format(curI,curJ)\n",
    "    im.save(outName)\n",
    "\n",
    "wB.on_click(saveCurrentDP)\n",
    "\n",
    "display(w)\n",
    "display(wB)"
   ]
  },
  {
   "cell_type": "markdown",
   "metadata": {},
   "source": [
    "# Find the maximum intensity for every pixel in the diffraction pattern\n",
    "- Useful to see features close to the noise floor"
   ]
  },
  {
   "cell_type": "code",
   "execution_count": null,
   "metadata": {},
   "outputs": [],
   "source": [
    "DPmax = np.max(im1.reshape((im1.shape[0]*im1.shape[1],im1.shape[2],im1.shape[3])),axis=0)\n",
    "\n",
    "#Plot the image\n",
    "fg2,ax2 = plt.subplots(1,1)\n",
    "ax2.imshow(np.sqrt(DPmax))\n",
    "ax2.set(title='Maximum intensity for each detector pixel (sqrt)');"
   ]
  }
 ],
 "metadata": {
  "kernelspec": {
   "display_name": "Python 3",
   "language": "python",
   "name": "python3"
  },
  "language_info": {
   "codemirror_mode": {
    "name": "ipython",
    "version": 3
   },
   "file_extension": ".py",
   "mimetype": "text/x-python",
   "name": "python",
   "nbconvert_exporter": "python",
   "pygments_lexer": "ipython3",
   "version": "3.8.5"
  }
 },
 "nbformat": 4,
 "nbformat_minor": 2
}
